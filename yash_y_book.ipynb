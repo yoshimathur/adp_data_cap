{
 "cells": [
  {
   "cell_type": "code",
<<<<<<< Updated upstream:yash_y_book.ipynb
   "execution_count": 4,
=======
   "execution_count": 51,
>>>>>>> Stashed changes:preprocess/yash_y_book.ipynb
   "id": "c1c1b069",
   "metadata": {},
   "outputs": [
    {
     "ename": "ModuleNotFoundError",
     "evalue": "No module named 'utils'",
     "output_type": "error",
     "traceback": [
      "\u001b[31m---------------------------------------------------------------------------\u001b[39m",
      "\u001b[31mModuleNotFoundError\u001b[39m                       Traceback (most recent call last)",
      "\u001b[36mCell\u001b[39m\u001b[36m \u001b[39m\u001b[32mIn[4]\u001b[39m\u001b[32m, line 1\u001b[39m\n\u001b[32m----> \u001b[39m\u001b[32m1\u001b[39m \u001b[38;5;28;01mfrom\u001b[39;00m\u001b[38;5;250m \u001b[39m\u001b[34;01mutils\u001b[39;00m\u001b[34;01m.\u001b[39;00m\u001b[34;01mloader\u001b[39;00m\u001b[38;5;250m \u001b[39m\u001b[38;5;28;01mimport\u001b[39;00m EMPLOYEES_BENEFITS_USAGE\n",
      "\u001b[31mModuleNotFoundError\u001b[39m: No module named 'utils'"
     ]
    }
   ],
   "source": [
<<<<<<< Updated upstream:yash_y_book.ipynb
    "from utils.loader import EMPLOYEES_BENEFITS_USAGE"
=======
    "import os\n",
    "from utils.loader import FEEDBACK"
>>>>>>> Stashed changes:preprocess/yash_y_book.ipynb
   ]
  },
  {
   "cell_type": "code",
<<<<<<< Updated upstream:yash_y_book.ipynb
   "execution_count": null,
=======
   "execution_count": 52,
>>>>>>> Stashed changes:preprocess/yash_y_book.ipynb
   "id": "072e6fc1",
   "metadata": {},
   "outputs": [],
   "source": [
    "feedback_df = FEEDBACK"
   ]
  },
  {
   "cell_type": "code",
   "execution_count": 53,
   "id": "88e58604",
   "metadata": {},
   "outputs": [
    {
     "data": {
      "text/plain": [
       "Index([    0,     1,     2,     3,     4,     5,     6,     7,     8,     9,\n",
       "       ...\n",
       "       29990, 29991, 29992, 29993, 29994, 29995, 29996, 29997, 29998, 29999],\n",
       "      dtype='int64', length=29376)"
      ]
     },
     "execution_count": 53,
     "metadata": {},
     "output_type": "execute_result"
    }
   ],
   "source": [
    "feedback_df = feedback_df.drop_duplicates()\n",
    "feedback_df.index"
   ]
  },
  {
   "cell_type": "code",
   "execution_count": 54,
   "id": "d405e305",
   "metadata": {},
   "outputs": [
    {
     "data": {
      "text/html": [
       "<div>\n",
       "<style scoped>\n",
       "    .dataframe tbody tr th:only-of-type {\n",
       "        vertical-align: middle;\n",
       "    }\n",
       "\n",
       "    .dataframe tbody tr th {\n",
       "        vertical-align: top;\n",
       "    }\n",
       "\n",
       "    .dataframe thead th {\n",
       "        text-align: right;\n",
       "    }\n",
       "</style>\n",
       "<table border=\"1\" class=\"dataframe\">\n",
       "  <thead>\n",
       "    <tr style=\"text-align: right;\">\n",
       "      <th></th>\n",
       "      <th>EmployeeID</th>\n",
       "      <th>BenefitID</th>\n",
       "      <th>SatisfactionScore</th>\n",
       "      <th>Comments</th>\n",
       "    </tr>\n",
       "  </thead>\n",
       "  <tbody>\n",
       "    <tr>\n",
       "      <th>524</th>\n",
       "      <td>1525</td>\n",
       "      <td>2</td>\n",
       "      <td>4</td>\n",
       "      <td>Great coverage, but a bit expensive.</td>\n",
       "    </tr>\n",
       "    <tr>\n",
       "      <th>1520</th>\n",
       "      <td>4003</td>\n",
       "      <td>17</td>\n",
       "      <td>2</td>\n",
       "      <td>Returns are not as expected.</td>\n",
       "    </tr>\n",
       "    <tr>\n",
       "      <th>1652</th>\n",
       "      <td>1350</td>\n",
       "      <td>6</td>\n",
       "      <td>5</td>\n",
       "      <td>Top-notch retirement plan.</td>\n",
       "    </tr>\n",
       "    <tr>\n",
       "      <th>1656</th>\n",
       "      <td>2508</td>\n",
       "      <td>26</td>\n",
       "      <td>4</td>\n",
       "      <td>Good value, I enjoy the variety.</td>\n",
       "    </tr>\n",
       "    <tr>\n",
       "      <th>1676</th>\n",
       "      <td>3055</td>\n",
       "      <td>15</td>\n",
       "      <td>1</td>\n",
       "      <td>Not worth the hassle.</td>\n",
       "    </tr>\n",
       "    <tr>\n",
       "      <th>...</th>\n",
       "      <td>...</td>\n",
       "      <td>...</td>\n",
       "      <td>...</td>\n",
       "      <td>...</td>\n",
       "    </tr>\n",
       "    <tr>\n",
       "      <th>29960</th>\n",
       "      <td>254</td>\n",
       "      <td>13</td>\n",
       "      <td>2</td>\n",
       "      <td>Not much flexibility offered.</td>\n",
       "    </tr>\n",
       "    <tr>\n",
       "      <th>29967</th>\n",
       "      <td>3271</td>\n",
       "      <td>20</td>\n",
       "      <td>3</td>\n",
       "      <td>Helps but limited in scope.</td>\n",
       "    </tr>\n",
       "    <tr>\n",
       "      <th>29988</th>\n",
       "      <td>4924</td>\n",
       "      <td>22</td>\n",
       "      <td>1</td>\n",
       "      <td>Terrible service, would not recommend.</td>\n",
       "    </tr>\n",
       "    <tr>\n",
       "      <th>29995</th>\n",
       "      <td>3170</td>\n",
       "      <td>1</td>\n",
       "      <td>2</td>\n",
       "      <td>Returns are not as expected.</td>\n",
       "    </tr>\n",
       "    <tr>\n",
       "      <th>29997</th>\n",
       "      <td>3039</td>\n",
       "      <td>6</td>\n",
       "      <td>4</td>\n",
       "      <td>Good plan with decent returns.</td>\n",
       "    </tr>\n",
       "  </tbody>\n",
       "</table>\n",
       "<p>2196 rows × 4 columns</p>\n",
       "</div>"
      ],
      "text/plain": [
       "       EmployeeID  BenefitID  SatisfactionScore  \\\n",
       "524          1525          2                  4   \n",
       "1520         4003         17                  2   \n",
       "1652         1350          6                  5   \n",
       "1656         2508         26                  4   \n",
       "1676         3055         15                  1   \n",
       "...           ...        ...                ...   \n",
       "29960         254         13                  2   \n",
       "29967        3271         20                  3   \n",
       "29988        4924         22                  1   \n",
       "29995        3170          1                  2   \n",
       "29997        3039          6                  4   \n",
       "\n",
       "                                     Comments  \n",
       "524      Great coverage, but a bit expensive.  \n",
       "1520             Returns are not as expected.  \n",
       "1652               Top-notch retirement plan.  \n",
       "1656         Good value, I enjoy the variety.  \n",
       "1676                    Not worth the hassle.  \n",
       "...                                       ...  \n",
       "29960           Not much flexibility offered.  \n",
       "29967             Helps but limited in scope.  \n",
       "29988  Terrible service, would not recommend.  \n",
       "29995            Returns are not as expected.  \n",
       "29997          Good plan with decent returns.  \n",
       "\n",
       "[2196 rows x 4 columns]"
      ]
     },
     "execution_count": 54,
     "metadata": {},
     "output_type": "execute_result"
    }
   ],
   "source": [
<<<<<<< Updated upstream:yash_y_book.ipynb
    "EMPLOYEES_BENEFITS_USAGE"
=======
    "feedback_df[feedback_df[['EmployeeID','BenefitID']].duplicated()]"
>>>>>>> Stashed changes:preprocess/yash_y_book.ipynb
   ]
  },
  {
   "cell_type": "code",
   "execution_count": 55,
   "id": "9d80aa8d",
   "metadata": {},
   "outputs": [],
   "source": [
    "feedback_df_no_comments = feedback_df.drop(columns='Comments')"
   ]
  },
  {
   "cell_type": "code",
   "execution_count": 56,
   "id": "fff5aa5b",
   "metadata": {},
   "outputs": [],
   "source": [
    "feedback_df_averaged_no_comments = feedback_df_no_comments.groupby(['EmployeeID','BenefitID'], as_index=False).mean()"
   ]
  },
  {
   "cell_type": "code",
   "execution_count": 59,
   "id": "22a55790",
   "metadata": {},
   "outputs": [
    {
     "data": {
      "text/plain": [
       "RangeIndex(start=0, stop=27180, step=1)"
      ]
     },
     "execution_count": 59,
     "metadata": {},
     "output_type": "execute_result"
    }
   ],
   "source": [
    "feedback_df_averaged_no_comments.index"
   ]
  },
  {
   "cell_type": "code",
   "execution_count": 60,
   "id": "7170ac9c",
   "metadata": {},
   "outputs": [
    {
     "data": {
      "text/html": [
       "<div>\n",
       "<style scoped>\n",
       "    .dataframe tbody tr th:only-of-type {\n",
       "        vertical-align: middle;\n",
       "    }\n",
       "\n",
       "    .dataframe tbody tr th {\n",
       "        vertical-align: top;\n",
       "    }\n",
       "\n",
       "    .dataframe thead th {\n",
       "        text-align: right;\n",
       "    }\n",
       "</style>\n",
       "<table border=\"1\" class=\"dataframe\">\n",
       "  <thead>\n",
       "    <tr style=\"text-align: right;\">\n",
       "      <th></th>\n",
       "      <th>EmployeeID</th>\n",
       "      <th>BenefitID</th>\n",
       "      <th>SatisfactionScore</th>\n",
       "    </tr>\n",
       "  </thead>\n",
       "  <tbody>\n",
       "    <tr>\n",
       "      <th>8333</th>\n",
       "      <td>1525</td>\n",
       "      <td>1</td>\n",
       "      <td>2.0</td>\n",
       "    </tr>\n",
       "    <tr>\n",
       "      <th>8334</th>\n",
       "      <td>1525</td>\n",
       "      <td>2</td>\n",
       "      <td>3.5</td>\n",
       "    </tr>\n",
       "    <tr>\n",
       "      <th>8335</th>\n",
       "      <td>1525</td>\n",
       "      <td>10</td>\n",
       "      <td>4.0</td>\n",
       "    </tr>\n",
       "    <tr>\n",
       "      <th>8336</th>\n",
       "      <td>1525</td>\n",
       "      <td>16</td>\n",
       "      <td>3.5</td>\n",
       "    </tr>\n",
       "    <tr>\n",
       "      <th>8337</th>\n",
       "      <td>1525</td>\n",
       "      <td>18</td>\n",
       "      <td>1.0</td>\n",
       "    </tr>\n",
       "    <tr>\n",
       "      <th>8338</th>\n",
       "      <td>1525</td>\n",
       "      <td>25</td>\n",
       "      <td>1.0</td>\n",
       "    </tr>\n",
       "    <tr>\n",
       "      <th>8339</th>\n",
       "      <td>1525</td>\n",
       "      <td>26</td>\n",
       "      <td>1.0</td>\n",
       "    </tr>\n",
       "    <tr>\n",
       "      <th>8340</th>\n",
       "      <td>1525</td>\n",
       "      <td>27</td>\n",
       "      <td>3.0</td>\n",
       "    </tr>\n",
       "  </tbody>\n",
       "</table>\n",
       "</div>"
      ],
      "text/plain": [
       "      EmployeeID  BenefitID  SatisfactionScore\n",
       "8333        1525          1                2.0\n",
       "8334        1525          2                3.5\n",
       "8335        1525         10                4.0\n",
       "8336        1525         16                3.5\n",
       "8337        1525         18                1.0\n",
       "8338        1525         25                1.0\n",
       "8339        1525         26                1.0\n",
       "8340        1525         27                3.0"
      ]
     },
     "execution_count": 60,
     "metadata": {},
     "output_type": "execute_result"
    }
   ],
   "source": [
    "feedback_df_averaged_no_comments[feedback_df_averaged_no_comments['EmployeeID']==1525]"
   ]
  }
 ],
 "metadata": {
  "kernelspec": {
   "display_name": "Python 3",
   "language": "python",
   "name": "python3"
  },
  "language_info": {
   "codemirror_mode": {
    "name": "ipython",
    "version": 3
   },
   "file_extension": ".py",
   "mimetype": "text/x-python",
   "name": "python",
   "nbconvert_exporter": "python",
   "pygments_lexer": "ipython3",
   "version": "3.13.5"
  }
 },
 "nbformat": 4,
 "nbformat_minor": 5
}
