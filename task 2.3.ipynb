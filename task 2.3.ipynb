{
 "cells": [
  {
   "cell_type": "code",
   "execution_count": 6,
   "id": "204fed99",
   "metadata": {},
   "outputs": [],
   "source": [
    "import numpy as np\n",
    "import pandas as pd\n",
    "import matplotlib.pyplot as plt\n",
    "import utils.loader as DATA\n",
    "import utils.col_refs as REF"
   ]
  },
  {
   "cell_type": "code",
   "execution_count": 13,
   "id": "6c6123c9",
   "metadata": {},
   "outputs": [
    {
     "name": "stdout",
     "output_type": "stream",
     "text": [
      "    BenefitID  BenefitCost  UsageFrequency   UsageCost\n",
      "0           1   1470280.38            5721  256.997095\n",
      "1           2   1143105.81            5267  217.031671\n",
      "2           3    551525.00            5503  100.222606\n",
      "3           4    459088.64            6105   75.198794\n",
      "4           5    127200.00            5644   22.537208\n",
      "5           6   1008969.84            5721  176.362496\n",
      "6           7    762750.00            5682  134.239704\n",
      "7           8    206250.00            5412   38.109756\n",
      "8           9   1422050.00            5684  250.184729\n",
      "9          10   1479415.68            5244  282.115881\n",
      "10         11   1520363.75            5385  282.333101\n",
      "11         12   1336563.13            5417  246.734933\n",
      "12         13    106795.00            5304   20.134804\n",
      "13         14    120237.04            5237   22.959145\n",
      "14         15    581201.78            5354  108.554684\n",
      "15         16    145087.80            5709   25.413873\n",
      "16         17    820536.50            5474  149.897059\n",
      "17         18   1193274.06            5442  219.271235\n",
      "18         19    568185.69            5357  106.064157\n",
      "19         20    860859.72            6032  142.715471\n",
      "20         21    279483.60            5658   49.396182\n",
      "21         22   1057056.00            5959  177.388152\n",
      "22         23   1553755.84            5440  285.616882\n",
      "23         24   1320298.98            5602  235.683502\n",
      "24         25   1311147.72            5960  219.991228\n",
      "25         26    890697.24            5926  150.303280\n",
      "26         27   1456250.95            5263  276.695981\n",
      "27         28    274630.86            5491   50.014726\n",
      "28         29    796100.00            5612  141.856736\n",
      "29         30   1235407.11            5813  212.524877\n"
     ]
    }
   ],
   "source": [
    "# cost per usage by benefit \n",
    "data = {REF.benefitID: list(), REF.benefit_cost: list(), REF.usage_freq: list(), \"UsageCost\": list()}\n",
    "for benefitID in DATA.BENEFITS[REF.benefitID]: \n",
    "    cost = DATA.EMPLOYEES_BENEFITS_USAGE.groupby(REF.benefitID).get_group(benefitID).reset_index()[REF.benefit_cost].sum()\n",
    "    usage = DATA.EMPLOYEES_BENEFITS_USAGE.groupby(REF.benefitID).get_group(benefitID).reset_index()[REF.usage_freq].sum()\n",
    "    usage_cost = cost / usage\n",
    "\n",
    "    data[REF.benefitID].append(benefitID)\n",
    "    data[REF.benefit_cost].append(cost)\n",
    "    data[REF.usage_freq].append(usage)\n",
    "    data[\"UsageCost\"].append(usage_cost)\n",
    "cost_analysis = pd.DataFrame(data)\n",
    "cost_analysis.to_csv(\"data/cost_analysis.csv\", index=False)\n",
    "print(cost_analysis)"
   ]
  }
 ],
 "metadata": {
  "kernelspec": {
   "display_name": "Python 3",
   "language": "python",
   "name": "python3"
  },
  "language_info": {
   "codemirror_mode": {
    "name": "ipython",
    "version": 3
   },
   "file_extension": ".py",
   "mimetype": "text/x-python",
   "name": "python",
   "nbconvert_exporter": "python",
   "pygments_lexer": "ipython3",
   "version": "3.13.5"
  }
 },
 "nbformat": 4,
 "nbformat_minor": 5
}
