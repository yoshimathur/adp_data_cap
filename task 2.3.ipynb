{
 "cells": [
  {
   "cell_type": "code",
   "execution_count": 17,
   "id": "204fed99",
   "metadata": {},
   "outputs": [],
   "source": [
    "import numpy as np\n",
    "import pandas as pd\n",
    "import matplotlib.pyplot as plt\n",
    "import utils.loader as data\n",
    "import utils.col_refs as REF"
   ]
  },
  {
   "cell_type": "code",
   "execution_count": 20,
   "id": "6c6123c9",
   "metadata": {},
   "outputs": [
    {
     "name": "stdout",
     "output_type": "stream",
     "text": [
      "BenefitID\n",
      "1     256.997095\n",
      "2     217.031671\n",
      "3     100.222606\n",
      "4      75.198794\n",
      "5      22.537208\n",
      "6     176.362496\n",
      "7     134.239704\n",
      "8      38.109756\n",
      "9     250.184729\n",
      "10    282.115881\n",
      "11    282.333101\n",
      "12    246.734933\n",
      "13     20.134804\n",
      "14     22.959145\n",
      "15    108.554684\n",
      "16     25.413873\n",
      "17    149.897059\n",
      "18    219.271235\n",
      "19    106.064157\n",
      "20    142.715471\n",
      "21     49.396182\n",
      "22    177.388152\n",
      "23    285.616882\n",
      "24    235.683502\n",
      "25    219.991228\n",
      "26    150.303280\n",
      "27    276.695981\n",
      "28     50.014726\n",
      "29    141.856736\n",
      "30    212.524877\n",
      "dtype: float64\n"
     ]
    }
   ],
   "source": [
    "# cost per usage by benefit \n",
    "for benefitID in data.BENEFITS[REF.benefitID]: \n",
    "    cost = data.EMPLOYEES_BENEFITS_USAGE.groupby(REF.benefitID)[REF.benefit_cost].sum()\n",
    "    usage = data.EMPLOYEES_BENEFITS_USAGE.groupby(REF.benefitID)[REF.usage_freq].sum()\n",
    "    cost_usage = cost / usage\n",
    "print(cost_usage)"
   ]
  }
 ],
 "metadata": {
  "kernelspec": {
   "display_name": "Python 3",
   "language": "python",
   "name": "python3"
  },
  "language_info": {
   "codemirror_mode": {
    "name": "ipython",
    "version": 3
   },
   "file_extension": ".py",
   "mimetype": "text/x-python",
   "name": "python",
   "nbconvert_exporter": "python",
   "pygments_lexer": "ipython3",
   "version": "3.13.5"
  }
 },
 "nbformat": 4,
 "nbformat_minor": 5
}
