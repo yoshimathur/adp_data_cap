{
 "cells": [
  {
   "cell_type": "code",
   "execution_count": null,
   "id": "6c6123c9",
   "metadata": {
    "vscode": {
     "languageId": "plaintext"
    }
   },
   "outputs": [],
   "source": [
    "# Cost per usage\n",
    "df[\"CostPerUsage\"] = df[\"BenefitCost\"] / df[\"UsageFrequency\"].replace(0, np.nan)\n",
    "cost_eff = df.groupby(\"BenefitSubType\").agg({\n",
    "    \"BenefitCost\":\"mean\",\n",
    "    \"UsageFrequency\":\"mean\",\n",
    "    \"SatisfactionScore\":\"mean\",\n",
    "    \"CostPerUsage\":\"mean\"\n",
    "}).sort_values(\"CostPerUsage\")\n",
    "\n",
    "# Quadrant plot: Cost vs Usage\n",
    "plt.figure(figsize=(7,6))\n",
    "plt.scatter(df[\"BenefitCost\"], df[\"UsageFrequency\"], alpha=0.5)\n",
    "plt.xlabel(\"Benefit Cost\")\n",
    "plt.ylabel(\"Usage Frequency\")\n",
    "plt.title(\"Cost vs. Usage Scatter\")\n",
    "plt.tight_layout()\n",
    "plt.show()\n",
    "\n",
    "# Quadrant plot: Cost vs Satisfaction\n",
    "plt.figure(figsize=(7,6))\n",
    "plt.scatter(df[\"BenefitCost\"], df[\"SatisfactionScore\"], alpha=0.5, color=\"green\")\n",
    "plt.xlabel(\"Benefit Cost\")\n",
    "plt.ylabel(\"Satisfaction Score\")\n",
    "plt.title(\"Cost vs. Satisfaction Scatter\")\n",
    "plt.tight_layout()\n",
    "plt.show()\n",
    "\n",
    "import caas_jupyter_tools as cj\n",
    "# Display cost efficiency table\n",
    "cj.display_dataframe_to_user(\"Phase 2: Cost Efficiency Summary\", cost_eff.head(20))"
   ]
  }
 ],
 "metadata": {
  "language_info": {
   "name": "python"
  }
 },
 "nbformat": 4,
 "nbformat_minor": 5
}
